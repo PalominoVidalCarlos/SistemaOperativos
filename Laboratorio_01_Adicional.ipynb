{
 "cells": [
  {
   "cell_type": "markdown",
   "metadata": {},
   "source": [
    "### Soluciones a las Preguntas Adicionales\n",
    "\n",
    "7. **Visualización de Contenido de Archivos**\n",
    "   - **Comandos**:\n",
    "     ```bash\n",
    "     head nota.txt  # Muestra las primeras 10 líneas de nota.txt\n",
    "     tail nota.txt  # Muestra las últimas 10 líneas de nota.txt\n",
    "     ```\n",
    "   - **Explicación**:\n",
    "     Los comandos `head` y `tail` son útiles para inspeccionar rápidamente el contenido de archivos grandes, permitiendo ver el inicio y el final sin necesidad de abrir el archivo completo. Son especialmente útiles para verificar datos y logs.\n",
    "\n",
    "8. **Manipulación de Archivos**\n",
    "   - **Comandos**:\n",
    "     ```bash\n",
    "     mv nota.txt intro.txt  # Renombra nota.txt a intro.txt\n",
    "     cp intro.txt ~/Documentos/  # Copia intro.txt al directorio de documentos\n",
    "     ```\n",
    "   - **Explicación**:\n",
    "     El comando `mv` se usa para mover o renombrar archivos y directorios, mientras que `cp` se utiliza para copiar archivos y directorios. Renombrar un archivo puede ser necesario para reflejar cambios en su contenido o propósito, y copiar un archivo es útil para mantener una versión original mientras se trabaja o se modifica otra copia.\n",
    "\n",
    "9. **Búsqueda de Contenido en Archivos**\n",
    "   - **Comandos**:\n",
    "     ```bash\n",
    "     grep \"Sistemas Operativos\" intro.txt  # Busca la frase \"Sistemas Operativos\" en intro.txt\n",
    "     ```\n",
    "   - **Explicación**:\n",
    "     `grep` es una herramienta poderosa para buscar textos específicos dentro de archivos. Es muy útil para filtrar información en archivos de log, scripts o documentos, permitiendo a los usuarios identificar rápidamente líneas relevantes que contengan palabras clave específicas.\n",
    "\n",
    "10. **Análisis de Espacio de Disco**\n",
    "    - **Comandos**:\n",
    "      ```bash\n",
    "      du -sh ClasesOS/  # Muestra el uso de espacio del directorio ClasesOS en un formato legible\n",
    "      ```\n",
    "    - **Explicación**:\n",
    "      El comando `du` (disk usage) se utiliza para estimar y mostrar el espacio de archivo utilizado por directorios. La opción `-s` proporciona un resumen en lugar de mostrar el tamaño de cada subdirectorio, y `-h` (human-readable) muestra los tamaños en un formato más legible (por ejemplo, en kilobytes, megabytes, etc.). Este comando es crucial para la gestión de sistemas, permitiendo a los administradores monitorear y gestionar el uso del espacio en disco.\n"
   ]
  }
 ],
 "metadata": {
  "language_info": {
   "name": "python"
  }
 },
 "nbformat": 4,
 "nbformat_minor": 2
}
