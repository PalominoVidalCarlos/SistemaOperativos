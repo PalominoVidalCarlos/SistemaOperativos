{
 "cells": [
  {
   "cell_type": "markdown",
   "metadata": {},
   "source": [
    "## Laboratorio 01: comandos basicos\n",
    "\n",
    "Para la realización de este laboratorio, se necesita tener una maquina virtual con Ubuntu instalada y operativa "
   ]
  },
  {
   "cell_type": "markdown",
   "metadata": {},
   "source": [
    "### Comandos a realizar\n",
    "\n",
    "Los comandos a realizar en este laboratorio son:\n",
    "\n",
    "| Comando | Ejemplo de Uso | Explicación |\n",
    "|---------|----------------|-------------|\n",
    "| `pwd`   | `pwd`          | Muestra el directorio actual en el que te encuentras, útil para saber tu ubicación en la estructura del sistema de archivos. |\n",
    "| `cd`    | `cd /home/usuario/documentos` | Cambia el directorio actual al directorio especificado. Ejecutar `cd` solo te lleva al directorio home. |\n",
    "| `ls`    | `ls -la`       | Lista todos los archivos y directorios en el directorio actual, incluyendo los ocultos, con detalles como permisos, tamaño y fecha de modificación. |\n",
    "| `cat`   | `cat ejemplo.txt` | Muestra el contenido del archivo `ejemplo.txt`, usado para ver, crear o concatenar archivos. |\n",
    "| `more`  | `more ejemplo.txt` | Permite leer el contenido del archivo `ejemplo.txt` página por página, útil para archivos largos. |\n",
    "| `less`  | `less ejemplo.txt` | Similar a `more`, pero permite una navegación más flexible hacia adelante y atrás en el archivo. |\n"
   ]
  },
  {
   "cell_type": "markdown",
   "metadata": {},
   "source": [
    "### Abrir el terminal \n",
    "\n",
    "Para la ejecucion de los comandos se usara el terminal, para poder abrir esta herramienta podemos seguir los pasos que muestra el video  \n",
    "\n",
    "<video controls src=\"Videos/AbrirTerminal.mp4\" width=\"600\" height=\"450\">\n",
    "  Tu navegador no soporta la etiqueta de video.\n",
    "</video>\n"
   ]
  }
 ],
 "metadata": {
  "language_info": {
   "name": "python"
  }
 },
 "nbformat": 4,
 "nbformat_minor": 2
}
