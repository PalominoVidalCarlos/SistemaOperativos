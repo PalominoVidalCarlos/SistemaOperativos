{
 "cells": [
  {
   "cell_type": "markdown",
   "metadata": {},
   "source": [
    "## Laboratorio 01: Manejo Básico de la Terminal en Linux\n",
    "\n",
    "Para la realización de este laboratorio, se necesita tener una maquina virtual con Ubuntu instalada y operativa "
   ]
  },
  {
   "cell_type": "markdown",
   "metadata": {},
   "source": [
    "### Comandos a realizar\n",
    "\n",
    "Los comandos a realizar en este laboratorio son:\n",
    "\n",
    "| Comando | Ejemplo de Uso | Explicación |\n",
    "|---------|----------------|-------------|\n",
    "| `pwd`   | `pwd`          | Muestra el directorio actual en el que te encuentras, útil para saber tu ubicación en la estructura del sistema de archivos. |\n",
    "| `cd`    | `cd /home/usuario/documentos` | Cambia el directorio actual al directorio especificado. Ejecutar `cd` solo te lleva al directorio home. |\n",
    "| `ls`    | `ls -la`       | Lista todos los archivos y directorios en el directorio actual, incluyendo los ocultos, con detalles como permisos, tamaño y fecha de modificación. |\n",
    "| `cat`   | `cat ejemplo.txt` | Muestra el contenido del archivo `ejemplo.txt`, usado para ver, crear o concatenar archivos. |\n",
    "| `more`  | `more ejemplo.txt` | Permite leer el contenido del archivo `ejemplo.txt` página por página, útil para archivos largos. |\n",
    "| `less`  | `less ejemplo.txt` | Similar a `more`, pero permite una navegación más flexible hacia adelante y atrás en el archivo. |\n"
   ]
  },
  {
   "cell_type": "markdown",
   "metadata": {},
   "source": [
    "### Abrir el terminal \n",
    "\n",
    "Para la ejecucion de los comandos se usara el terminal, para poder abrir esta herramienta podemos seguir los pasos que muestra el video  \n",
    "\n",
    "<video controls src=\"Videos/AbrirTerminal.mp4\" width=\"400\" height=\"250\">\n",
    "  Tu navegador no soporta la etiqueta de video.\n",
    "</video>\n"
   ]
  },
  {
   "cell_type": "markdown",
   "metadata": {},
   "source": [
    "#### Comandos y Ejemplos\n",
    "**1.- pwd (Print Working Directory)**\n",
    "\n",
    "**Ejemplo:**\n",
    "\n",
    "**pwd**\n",
    "\n",
    "Muestra el directorio actual en el que te encuentras.\n",
    "\n",
    "<img src=\"Imagenes/pwd.png\" width=\"200\" height=\"100\" alt=\"Texto alternativo\">\n",
    "\n",
    "**Explicación:** Este comando es útil para saber tu ubicación actual en la estructura del sistema de archivos."
   ]
  },
  {
   "cell_type": "markdown",
   "metadata": {},
   "source": [
    "**2.- cd (Change Directory)**\n",
    "\n",
    "**Ejemplo:** \n",
    "\n",
    "**cd /home/usuario/documentos**\n",
    "\n",
    "Cambia el directorio actual al directorio /home/usuario/documentos.\n",
    "\n",
    "<img src=\"Imagenes/cambiarruta.png\" with=\"100\" height=\"40\" alt=\"Texto alternativo\">\n",
    "\n",
    "**Explicación:** Cambia el directorio de trabajo a otro lugar. Si ejecutas cd sin argumentos, te llevará a tu directorio home."
   ]
  },
  {
   "cell_type": "markdown",
   "metadata": {},
   "source": [
    "**3.- ls (List)**\n",
    "\n",
    "**Ejemplo:** \n",
    "\n",
    "**ls -la**\n",
    "\n",
    "Lista todos los archivos y directorios, incluyendo los ocultos, junto con sus permisos, tamaños y fechas de modificación.\n",
    "\n",
    "<img src=\"Imagenes/cambiarruta.png\" with=\"100\" height=\"40\" alt=\"Texto alternativo\">\n",
    "\n",
    "\n",
    "**Explicación:** Muestra el contenido del directorio actual o de uno especificado."
   ]
  },
  {
   "cell_type": "markdown",
   "metadata": {},
   "source": [
    "**4.- cat (Concatenate and Display Files)**\n",
    "\n",
    "**Ejemplo:** cat ejemplo.txt mostrará el contenido de ejemplo.txt.\n",
    "\n",
    "<img src=\"Imagenes/cambiarruta.png\" with=\"100\" height=\"40\" alt=\"Texto alternativo\">\n",
    "\n",
    "**Explicación:** Se utiliza para ver, crear o concatenar archivos."
   ]
  },
  {
   "cell_type": "markdown",
   "metadata": {},
   "source": [
    "**more y less**\n",
    "\n",
    "Ejemplo: \n",
    "\n",
    "**more ejemplo.txt**\n",
    "\n",
    "Te permite navegar a través del contenido del archivo ejemplo.txt página por página. \n",
    "\n",
    "<img src=\"Imagenes/cambiarruta.png\" with=\"100\" height=\"40\" alt=\"Texto alternativo\">\n",
    "\n",
    "**less ejemplo.txt** \n",
    "\n",
    "Hace lo mismo pero te permite moverte libremente hacia adelante y atrás.\n",
    "\n",
    "<img src=\"Imagenes/cambiarruta.png\" with=\"100\" height=\"40\" alt=\"Texto alternativo\">\n",
    "\n",
    "Explicación: Estos comandos son paginadores de texto. less es más avanzado que more, ya que ofrece una navegación más flexible."
   ]
  },
  {
   "cell_type": "markdown",
   "metadata": {},
   "source": [
    "## Ejercicios Propuestos:\n",
    "\n",
    "1. **Exploración de Directorios**\n",
    "   - Abre una terminal y utiliza el comando `pwd` para identificar tu directorio actual.\n",
    "\n",
    "2. **Creación y Navegación de Directorios**\n",
    "   - Crea un nuevo directorio llamado \"ClasesOS\" en tu directorio home. Luego, navega dentro de ese directorio usando el comando `cd`.\n",
    "\n",
    "3. **Manejo de Archivos**\n",
    "   - Dentro de \"ClasesOS\", crea un archivo de texto llamado \"nota.txt\". Luego, usa `ls` para verificar que el archivo está allí y observa los detalles que muestra el comando.\n",
    "\n",
    "4. **Edición y Visualización de Contenido**\n",
    "   - Añade el texto \"Bienvenido a Sistemas Operativos\" a \"nota.txt\" usando un editor de texto de tu elección. Después, usa el comando `cat` para mostrar el contenido del archivo.\n",
    "\n",
    "5. **Uso de Paginadores**\n",
    "   - Usa el comando `more` para leer el contenido de un archivo de log grande en `/var/log`. Luego, intenta usar `less` para hacer lo mismo y practica moverte hacia adelante y atrás a través del archivo.\n",
    "\n",
    "6. **Exploración Avanzada con ls**\n",
    "   - Explora el uso del comando `ls` combinando diferentes opciones, como `-l` para el formato largo, `-h` para tamaños legibles por humanos y `-a` para incluir archivos ocultos. Observa cómo cambia la salida.\n",
    "\n",
    "7. **Visualización de Contenido de Archivos**\n",
    "   - Utiliza los comandos `head` y `tail` en \"nota.txt\" para mostrar las primeras y últimas líneas del archivo. Explica en qué situaciones estos comandos pueden ser particularmente útiles.\n",
    "\n",
    "8. **Manipulación de Archivos**\n",
    "   - Renombra el archivo \"nota.txt\" a \"intro.txt\" usando el comando `mv`. Luego, copia este archivo al directorio de documentos utilizando el comando `cp`. Explica cada paso y su importancia.\n",
    "\n",
    "9. **Búsqueda de Contenido en Archivos**\n",
    "   - Usa `grep` para buscar la frase \"Sistemas Operativos\" en \"intro.txt\". Muestra cómo se ejecuta este comando y discute su utilidad.\n",
    "\n",
    "10. **Análisis de Espacio de Disco**\n",
    "    - Utiliza el comando `du` para analizar el uso del espacio en disco del directorio \"ClasesOS\". Explica cómo interpretar los resultados mostrados por este comando.\n",
    "\n",
    "\n"
   ]
  },
  {
   "cell_type": "markdown",
   "metadata": {},
   "source": [
    "## Formato de Entrega:\n",
    "- **Documento en Microsoft Word**: Prepara un documento detallado que incluya:\n",
    "  - **Encabezados** claros para cada sección.\n",
    "  - **Imágenes de pantalla**: Capturas de pantalla que demuestren la ejecución de cada comando.\n",
    "  - **Explicaciones detalladas**: Cada imagen debe ir acompañada de un texto que explique lo que se muestra en la captura y el resultado obtenido.\n",
    "  - **Reflexiones**: Comentarios sobre lo aprendido en cada paso y cómo se aplican los conceptos en situaciones reales."
   ]
  }
 ],
 "metadata": {
  "language_info": {
   "name": "python"
  }
 },
 "nbformat": 4,
 "nbformat_minor": 2
}
