{
 "cells": [
  {
   "cell_type": "markdown",
   "id": "29dd0993",
   "metadata": {},
   "source": [
    "# Cómo se calculan los valores de la **tabla por aparición**"
   ]
  },
  {
   "cell_type": "markdown",
   "id": "8d727b85",
   "metadata": {},
   "source": [
    "| Columna | Cómo se obtiene | Fórmula / regla |\n",
    "|---------|-----------------|-----------------|\n",
    "| **Proceso** | Identificador del proceso. | – |\n",
    "| **Tiempo de Llegada** | Momento en que entra a la cola de listos. | dato de entrada |\n",
    "| **Tiempo de Ejecución** | CPU total que necesita (burst). | dato de entrada |\n",
    "| **Tiempo de Inicio** | Instante en que **ese tramo** empieza a usar CPU. | Del Gantt |\n",
    "| **Tiempo de Espera** | Tiempo que esperó **antes** de este tramo. <br>• 1.º tramo → `Inicio − Llegada` <br>• Tramo k > 1 → `Inicioᵏ − Finᵏ⁻¹` | `Esperaᵏ = Inicioᵏ – Finᵏ⁻¹` |\n",
    "| **Tiempo de Respuesta** | Solo en el 1.º tramo: mismo valor que la espera inicial. | `Respuesta = Inicio¹ − Llegada` |\n",
    "| **Tiempo de Fin** | Instante en el que termina **ese tramo**. | `Fin = Inicio + Duración del tramo` |\n"
   ]
  }
 ],
 "metadata": {
  "kernelspec": {
   "name": "python3",
   "language": "python",
   "display_name": "Python 3 (ipykernel)"
  }
 },
 "nbformat": 4,
 "nbformat_minor": 5
}
