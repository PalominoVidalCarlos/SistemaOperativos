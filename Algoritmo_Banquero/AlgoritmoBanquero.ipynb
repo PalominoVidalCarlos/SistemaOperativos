{
 "cells": [
  {
   "cell_type": "code",
   "id": "initial_id",
   "metadata": {
    "collapsed": true,
    "ExecuteTime": {
     "end_time": "2025-05-29T04:46:07.576035Z",
     "start_time": "2025-05-29T04:46:07.500253Z"
    }
   },
   "source": [
    "#importando las librerias necesarias\n",
    "import numpy as np"
   ],
   "outputs": [],
   "execution_count": 1
  },
  {
   "metadata": {
    "ExecuteTime": {
     "end_time": "2025-05-29T05:07:08.646063Z",
     "start_time": "2025-05-29T05:07:08.641851Z"
    }
   },
   "cell_type": "code",
   "source": [
    "class AlgoritmoBanquero:\n",
    "    def __init__(self, nroRecursos, nroProcesos, totalRecuros, matrizAsignacion, matrizMaxima):\n",
    "        self.nroRecursos = nroRecursos\n",
    "        self.nroProcesos = nroProcesos\n",
    "        self.totalRecuros = totalRecuros\n",
    "        self.matrizAsignacion = matrizAsignacion\n",
    "        self.matrizMaxima = matrizMaxima\n",
    "        self.matrizNecesaria = self.matrizMaxima - self.matrizAsignacion\n",
    "        self.vectorDisponibilidad =self.get_availability_vector(self.totalRecuros, self.matrizAsignacion)\n",
    "\n",
    "    def get_availability_vector(total_resources, allocation_matrix):\n",
    "        import numpy as np\n",
    "        # Convert inputs to NumPy arrays\n",
    "        total = np.array(total_resources)\n",
    "        allocation = np.array(allocation_matrix)\n",
    "        # Sum over each column (each resource)\n",
    "        allocated = np.sum(allocation, axis=0)\n",
    "        # Subtract allocated from total\n",
    "        availability_vector = total - allocated\n",
    "        return availability_vector\n"
   ],
   "id": "3fbc321cf2aaace5",
   "outputs": [],
   "execution_count": 2
  }
 ],
 "metadata": {
  "kernelspec": {
   "display_name": "Python 3",
   "language": "python",
   "name": "python3"
  },
  "language_info": {
   "codemirror_mode": {
    "name": "ipython",
    "version": 2
   },
   "file_extension": ".py",
   "mimetype": "text/x-python",
   "name": "python",
   "nbconvert_exporter": "python",
   "pygments_lexer": "ipython2",
   "version": "2.7.6"
  }
 },
 "nbformat": 4,
 "nbformat_minor": 5
}
