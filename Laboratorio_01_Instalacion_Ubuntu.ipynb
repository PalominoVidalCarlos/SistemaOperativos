{
 "cells": [
  {
   "cell_type": "markdown",
   "metadata": {},
   "source": [
    "# Unidad I: Administración de Procesos en Sistemas Operativos\n",
    "\n",
    "## Objetivo\n",
    "Al finalizar la unidad, el estudiante será capaz de administrar los procesos de los sistemas operativos utilizando la terminología básica.\n",
    "\n",
    "## Objetivo de la Sesión\n",
    "Al concluir la sesión, el alumno estará familiarizado con el uso de VirtualBox para virtualizar Ubuntu, lo cual es fundamental para realizar laboratorios y pruebas de procesos en futuras sesiones del curso.\n",
    "\n",
    "## Importancia\n",
    "La virtualización de máquinas nos permite experimentar con diferentes sistemas operativos, especialmente con Linux, brindándonos una comprensión amplia del manejo de procesos en los sistemas operativos.\n",
    "\n",
    "## Recordatorio de la Sesión Anterior\n",
    "- Procesos del Sistema Operativo.\n",
    "- Llamadas al Sistema (System Calls).\n",
    "- Kernel y Modo Dual.\n",
    "\n",
    "## Laboratorio 01: Instalación de Ubuntu\n",
    "\n",
    "### Descarga del Sistema Operativo\n",
    "Para la instalación de Ubuntu en una máquina virtual, utilizaremos VirtualBox, que debe estar previamente instalado. Se debe crear una máquina virtual especificando que es de tipo Linux y seleccionando la versión Ubuntu. A continuación, se proporcionan los enlaces para descargar la imagen ISO de Ubuntu:\n",
    "\n",
    "- Para arquitecturas Intel: [Descarga Ubuntu para Intel](https://ubuntu.com/download/desktop)\n",
    "- Para arquitecturas ARM: [Descarga Ubuntu para ARM](https://ubuntu.com/download/server/arm)\n",
    "\n",
    "Una vez descargada la imagen ISO, se procederá a la creación de la máquina virtual y al proceso de instalación.\n"
   ]
  },
  {
   "cell_type": "markdown",
   "metadata": {},
   "source": [
    "### Comienza el Proceso de Instalación\n",
    "\n",
    "Para instalar Ubuntu en VirtualBox, sigue estos pasos detalladamente:\n",
    "\n",
    "1. **Iniciar la Máquina Virtual**:\n",
    "   Enciende la máquina virtual que has configurado previamente para Ubuntu. Verás el menú de arranque o *Boot Menu* tan pronto como inicie la máquina.\n",
    "\n",
    "   <img src=\"Imagenes/Turniting_32.png\" width=\"500\" height=\"350\" alt=\"Menú de arranque de la máquina virtual\">\n",
    "   <figcaption><em>Figura 1: Menú de arranque de la máquina virtual.</em></figcaption>\n",
    "\n",
    "2. **Seleccionar la Opción de Instalación**:\n",
    "   Con las flechas del teclado, navega por las opciones disponibles. Selecciona \"Iniciar Ubuntu\" o una opción similar para comenzar la instalación desde el archivo ISO.\n",
    "\n",
    "   *Nota*: Si encuentras múltiples opciones de arranque y tienes dudas, la primera opción generalmente inicia el proceso de instalación.\n",
    "\n",
    "3. **Seleccionar Idioma de la Instalación**:\n",
    "   Podrás elegir el idioma que desees para la instalación.\n",
    "\n",
    "   <img src=\"Imagenes/Turniting_30.png\" width=\"500\" height=\"350\" alt=\"Selección de idioma durante la instalación de Ubuntu\">\n",
    "   <figcaption><em>Figura 2: Selección de idioma durante la instalación de Ubuntu.</em></figcaption>\n",
    "\n",
    "4. **Identificación del Teclado**:\n",
    "   Elige una distribución de teclado o utiliza la utilidad de detección para identificar la configuración correcta. A continuación, se mostrará la secuencia de pantallas para este proceso:\n",
    "\n",
    "   <img src=\"Imagenes/Turniting_29.png\" width=\"500\" height=\"350\" alt=\"Detección de la distribución del teclado\">\n",
    "   <figcaption><em>Figura 3: Detección de la distribución del teclado.</em></figcaption>\n",
    "\n",
    "   <img src=\"Imagenes/Turniting_28.png\" width=\"500\" height=\"350\" alt=\"Prueba de teclas específicas\">\n",
    "   <figcaption><em>Figura 4: Prueba de teclas específicas.</em></figcaption>\n",
    "\n",
    "   <img src=\"Imagenes/Turniting_27.png\" width=\"500\" height=\"350\" alt=\"Distribución de teclado identificada\">\n",
    "   <figcaption><em>Figura 5: Distribución de teclado identificada.</em></figcaption>\n",
    "\n",
    "   <img src=\"Imagenes/Turniting_26.png\" width=\"500\" height=\"350\" alt=\"Confirmación de la distribución del teclado\">\n",
    "   <figcaption><em>Figura 6: Confirmación de la distribución del teclado.</em></figcaption>\n",
    "\n",
    "   <img src=\"Imagenes/Turniting_25.png\" width=\"500\" height=\"350\" alt=\"Aceptar la Configuracion\">\n",
    "   <figcaption><em>Figura 7: Aceptando la configuración del teclado.</em></figcaption>"
   ]
  },
  {
   "cell_type": "markdown",
   "metadata": {},
   "source": [
    "5. **Seleccionar el Tipo de Instalación**:\n",
    "   Dependiendo de las opciones disponibles, selecciona \"Ubuntu Server\" si está disponible. De lo contrario, opta por la primera opción que generalmente es la instalación estándar de Ubuntu.\n",
    "\n",
    "   <img src=\"Imagenes/Turniting_24.png\" width=\"500\" height=\"350\" alt=\"Selección del tipo de instalación\">\n",
    "   <figcaption><em>Figura 8: Selección del tipo de instalación.</em></figcaption>\n"
   ]
  },
  {
   "cell_type": "markdown",
   "metadata": {},
   "source": [
    "6. **Seleccionar la configuracion de red**:\n",
    "   \n",
    "   Se selecciona la configuracion de red de la instalacion\n",
    "\n",
    "   <img src=\"Imagenes/Turniting_23.png\" width=\"500\" height=\"350\" alt=\"Selección de red\">\n",
    "   <figcaption><em>Figura 9: Selección de red.</em></figcaption>"
   ]
  },
  {
   "cell_type": "markdown",
   "metadata": {},
   "source": [
    "7. **Seleccionar la configuracion de proxy**:\n",
    "   \n",
    "   Se selecciona la configuracion de proxy de la instalacion\n",
    "\n",
    "   <img src=\"Imagenes/Turniting_22.png\" width=\"500\" height=\"350\" alt=\"Selección de proxy\">\n",
    "   <figcaption><em>Figura 10: Selección de proxy.</em></figcaption>"
   ]
  },
  {
   "cell_type": "markdown",
   "metadata": {},
   "source": [
    "8. **Configurar mirrow de descarga**:\n",
    "   \n",
    "   Se selecciona el mirrow de descarga\n",
    "\n",
    "   <img src=\"Imagenes/Turniting_21.png\" width=\"500\" height=\"350\" alt=\"Selección de mirrow\">\n",
    "   <figcaption><em>Figura 11: Selección de mirrow de descarga.</em></figcaption>"
   ]
  },
  {
   "cell_type": "markdown",
   "metadata": {},
   "source": [
    "9. **Seleccion de Disco duro**:\n",
    "   \n",
    "   Se selecciona la forma de configuracion de disco duro\n",
    "\n",
    "   <img src=\"Imagenes/Turniting_20.png\" width=\"500\" height=\"350\" alt=\"Configuración de disco duro\">\n",
    "   <figcaption><em>Figura 12: Configuración de disco duro.</em></figcaption>"
   ]
  },
  {
   "cell_type": "markdown",
   "metadata": {},
   "source": [
    "10.  **Resumen de configuración de discos**:\n",
    "   \n",
    "      Resumen de configuración de discos\n",
    "\n",
    "      <img src=\"Imagenes/Turniting_19.png\" width=\"500\" height=\"350\" alt=\"Resumen de configuración de discos\">\n",
    "      <figcaption><em>Figura 13: Resumen de configuración de discos.</em></figcaption>"
   ]
  },
  {
   "cell_type": "markdown",
   "metadata": {},
   "source": [
    "11.  **Confirmacion para empezar la instalacion**:\n",
    "   \n",
    "      Confirmacion de empezar la instalacion \n",
    "\n",
    "      <img src=\"Imagenes/Turniting_18.png\" width=\"500\" height=\"350\" alt=\"Confirmacion de empezar la instalacion\">\n",
    "      <figcaption><em>Figura 14: Confirmacion de empezar la instalacion.</em></figcaption>"
   ]
  },
  {
   "cell_type": "markdown",
   "metadata": {},
   "source": [
    "12.  **Datos de usuario**:\n",
    "   \n",
    "      Ingreso de datos de usuario\n",
    "\n",
    "      <img src=\"Imagenes/Turniting_16.png\" width=\"500\" height=\"350\" alt=\"Confirmacion de empezar la instalacion\">\n",
    "      <figcaption><em>Figura 15: Ingreso de datos de usuario.</em></figcaption>"
   ]
  },
  {
   "cell_type": "markdown",
   "metadata": {},
   "source": [
    "13.  **Solicitar Permiso de actualizacion**:\n",
    "   \n",
    "      Se solicita permiso para actualizar el sistema operativo, se deja por defecto\n",
    "\n",
    "      <img src=\"Imagenes/Turniting_15.png\" width=\"500\" height=\"350\" alt=\"Confirmacion de empezar la instalacion\">\n",
    "      <figcaption><em>Figura 16: Permisos de actualización.</em></figcaption>"
   ]
  },
  {
   "cell_type": "markdown",
   "metadata": {},
   "source": [
    "14.  **Configuración de acceso remoto seguro**:\n",
    "   \n",
    "      Configuracion de acceso remoto seguro, se deja por defecto\n",
    "\n",
    "      <img src=\"Imagenes/Turniting_14.png\" width=\"500\" height=\"350\" alt=\"Confirmacion de empezar la instalacion\">\n",
    "      <figcaption><em>Figura 17: Configuracion de acceso remoto seguro.</em></figcaption>"
   ]
  },
  {
   "cell_type": "markdown",
   "metadata": {},
   "source": [
    "15.  **Instalación de herramientas**:\n",
    "   \n",
    "      Se selecciona herramientas adicionales que se desean instalar, no se selecciona nada\n",
    "\n",
    "      <img src=\"Imagenes/Turniting_13.png\" width=\"500\" height=\"350\" alt=\"Confirmacion de empezar la instalacion\">\n",
    "      <figcaption><em>Figura 18: Instalación herramientas adicionales.</em></figcaption>"
   ]
  },
  {
   "cell_type": "markdown",
   "metadata": {},
   "source": [
    "16.  **Resumen de instalacion e instalacion del sistema**:\n",
    "   \n",
    "      Se empieza  instalar el sistema, tener en cuenta que al terminar de instalar se debe desconetar el ISO\n",
    "\n",
    "      <img src=\"Imagenes/Turniting_12.png\" width=\"500\" height=\"350\" alt=\"Confirmacion de empezar la instalacion\">\n",
    "      <figcaption><em>Figura 19: Se empieza a instalar el sistema.</em></figcaption>\n",
    "\n",
    "      <img src=\"Imagenes/Turniting_11.png\" width=\"500\" height=\"350\" alt=\"Confirmacion de empezar la instalacion\">\n",
    "      <figcaption><em>Figura 20: Terminar de instalar y reiniciar la maquina.</em></figcaption>"
   ]
  },
  {
   "cell_type": "markdown",
   "metadata": {},
   "source": [
    "### Instalación de entorno visual\n",
    "\n",
    "Se instalo Ubuntu server que no tiene entorno visual por lo que se debera instalar el GUI\n",
    "\n",
    "1. **Iniciar la Máquina Virtual**:\n",
    "   \n",
    "   Se ingresar usuario y contraseña para poder entrar a la maquina virtual que inicialmente no tiene interfaz de usuario  \n",
    "\n",
    "   <img src=\"Imagenes/Turniting_7.png\" width=\"500\" height=\"350\" alt=\"Menú de arranque de la máquina virtual\">\n",
    "   <figcaption><em>Figura 21: Ingreso de usuario y contraseña.</em></figcaption>\n",
    "\n",
    "   <img src=\"Imagenes/Turniting_6.png\" width=\"500\" height=\"350\" alt=\"Menú de arranque de la máquina virtual\">\n",
    "   <figcaption><em>Figura 22: Ingreso correctamente.</em></figcaption>\n",
    "\n",
    "2. **Se actualiza con sudo**:\n",
    "   \n",
    "   Se debe hacer una actualización con el comando sudo  \n",
    "\n",
    "   <img src=\"Imagenes/Turniting_4.png\" width=\"500\" height=\"350\" alt=\"Menú de arranque de la máquina virtual\">\n",
    "   <figcaption><em>Figura 23: Actualización sudo.</em></figcaption>\n",
    "\n",
    "3. **Se installa el GUI**:\n",
    "   \n",
    "   Se realiza la instalación del GUI \n",
    "\n",
    "   <img src=\"Imagenes/Turniting_2.png\" width=\"500\" height=\"350\" alt=\"Menú de arranque de la máquina virtual\">\n",
    "   <figcaption><em>Figura 24: Instalación del GUI.</em></figcaption>\n",
    "\n",
    "4. **Reiniciar el Servidor**:\n",
    "      Se reinicia para que carguen los cambios\n",
    "\n",
    "   <img src=\"Imagenes/zubuntu_4.png\" width=\"500\" height=\"350\" alt=\"Menú de arranque de la máquina virtual\">\n",
    "   <figcaption><em>Figura 25: Reiniciar para completar instalacion.</em></figcaption>\n",
    "\n",
    "\n"
   ]
  },
  {
   "cell_type": "markdown",
   "metadata": {},
   "source": [
    "5. **Sistema operativo**:\n",
    "   \n",
    "   Usar usuario y contraseña   \n",
    "\n",
    "   <img src=\"Imagenes/zubuntu_1.png\" width=\"500\" height=\"350\" alt=\"Menú de arranque de la máquina virtual\">\n",
    "   <figcaption><em>Figura 26: Login.</em></figcaption>\n",
    "\n",
    "   <img src=\"Imagenes/zubuntu_2.png\" width=\"500\" height=\"350\" alt=\"Menú de arranque de la máquina virtual\">\n",
    "   <figcaption><em>Figura 27: Ingreso correctamente.</em></figcaption>"
   ]
  }
 ],
 "metadata": {
  "language_info": {
   "name": "python"
  }
 },
 "nbformat": 4,
 "nbformat_minor": 2
}
